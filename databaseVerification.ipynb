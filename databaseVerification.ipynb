{
 "cells": [
  {
   "cell_type": "markdown",
   "id": "8b680151",
   "metadata": {},
   "source": [
    "### Import libraries."
   ]
  },
  {
   "cell_type": "code",
   "execution_count": 1,
   "id": "61e8bc0b",
   "metadata": {},
   "outputs": [],
   "source": [
    "import sqlite3\n",
    "import json\n",
    "import pandas as pd"
   ]
  },
  {
   "cell_type": "markdown",
   "id": "b8c84007",
   "metadata": {},
   "source": [
    "### Use SQL library of choice. \n",
    "\n",
    "Used sqlite since it's saving locally from local runs. Can and will probably switch to SQLAlchemy for database url instance."
   ]
  },
  {
   "cell_type": "code",
   "execution_count": 2,
   "id": "08d2b3c9",
   "metadata": {},
   "outputs": [
    {
     "name": "stdout",
     "output_type": "stream",
     "text": [
      "[('apscheduler_jobs',), ('assignments',), ('amt_hit',), ('campaign',)]\n"
     ]
    }
   ],
   "source": [
    "# creating file path\n",
    "dbfile = '/Users/isaacmenchaca/Desktop/hnlMturkTask1/participants.db'\n",
    "# Create a SQL connection to our SQLite database\n",
    "con = sqlite3.connect(dbfile)\n",
    "\n",
    "# creating cursor\n",
    "cur = con.cursor()\n",
    "\n",
    "# reading all table names\n",
    "table_list = [a for a in cur.execute(\"SELECT name FROM sqlite_master WHERE type = 'table'\")]\n",
    "# here is you table list\n",
    "print(table_list)\n",
    "\n"
   ]
  },
  {
   "cell_type": "markdown",
   "id": "4bf5bbb3",
   "metadata": {},
   "source": [
    "### Query assignments database.\n",
    "\n",
    "Contains info per participant. Display using pandas."
   ]
  },
  {
   "cell_type": "code",
   "execution_count": 3,
   "id": "1a77a485",
   "metadata": {},
   "outputs": [
    {
     "data": {
      "text/html": [
       "<div>\n",
       "<style scoped>\n",
       "    .dataframe tbody tr th:only-of-type {\n",
       "        vertical-align: middle;\n",
       "    }\n",
       "\n",
       "    .dataframe tbody tr th {\n",
       "        vertical-align: top;\n",
       "    }\n",
       "\n",
       "    .dataframe thead th {\n",
       "        text-align: right;\n",
       "    }\n",
       "</style>\n",
       "<table border=\"1\" class=\"dataframe\">\n",
       "  <thead>\n",
       "    <tr style=\"text-align: right;\">\n",
       "      <th></th>\n",
       "      <th>uniqueid</th>\n",
       "      <th>assignmentid</th>\n",
       "      <th>workerid</th>\n",
       "      <th>hitid</th>\n",
       "      <th>ipaddress</th>\n",
       "      <th>browser</th>\n",
       "      <th>platform</th>\n",
       "      <th>language</th>\n",
       "      <th>cond</th>\n",
       "      <th>counterbalance</th>\n",
       "      <th>codeversion</th>\n",
       "      <th>beginhit</th>\n",
       "      <th>beginexp</th>\n",
       "      <th>endhit</th>\n",
       "      <th>bonus</th>\n",
       "      <th>status</th>\n",
       "      <th>mode</th>\n",
       "      <th>datastring</th>\n",
       "    </tr>\n",
       "  </thead>\n",
       "  <tbody>\n",
       "    <tr>\n",
       "      <th>0</th>\n",
       "      <td>debugJ72QI6:debug50U9IQ</td>\n",
       "      <td>debug50U9IQ</td>\n",
       "      <td>debugJ72QI6</td>\n",
       "      <td>debug8IFCN4</td>\n",
       "      <td>127.0.0.1</td>\n",
       "      <td>safari</td>\n",
       "      <td>macos</td>\n",
       "      <td>en-us</td>\n",
       "      <td>0</td>\n",
       "      <td>0</td>\n",
       "      <td>0.0.1</td>\n",
       "      <td>2022-01-07 10:32:25.970613</td>\n",
       "      <td>2022-01-07 10:32:32.788966</td>\n",
       "      <td>2022-01-07 10:32:38.747559</td>\n",
       "      <td>0.0</td>\n",
       "      <td>3</td>\n",
       "      <td>debug</td>\n",
       "      <td>{\"condition\": 0, \"counterbalance\": 0, \"assignm...</td>\n",
       "    </tr>\n",
       "    <tr>\n",
       "      <th>1</th>\n",
       "      <td>debugMF614L:debugAO8832</td>\n",
       "      <td>debugAO8832</td>\n",
       "      <td>debugMF614L</td>\n",
       "      <td>debugY5W1G7</td>\n",
       "      <td>127.0.0.1</td>\n",
       "      <td>safari</td>\n",
       "      <td>macos</td>\n",
       "      <td>en-us</td>\n",
       "      <td>0</td>\n",
       "      <td>0</td>\n",
       "      <td>0.0.1</td>\n",
       "      <td>2022-01-07 10:32:47.620495</td>\n",
       "      <td>2022-01-07 10:32:53.758352</td>\n",
       "      <td>2022-01-07 10:32:58.631147</td>\n",
       "      <td>0.0</td>\n",
       "      <td>3</td>\n",
       "      <td>debug</td>\n",
       "      <td>{\"condition\": 0, \"counterbalance\": 0, \"assignm...</td>\n",
       "    </tr>\n",
       "    <tr>\n",
       "      <th>2</th>\n",
       "      <td>debug297THI:debugSGINL0</td>\n",
       "      <td>debugSGINL0</td>\n",
       "      <td>debug297THI</td>\n",
       "      <td>debugUD1L1Y</td>\n",
       "      <td>127.0.0.1</td>\n",
       "      <td>safari</td>\n",
       "      <td>macos</td>\n",
       "      <td>en-us</td>\n",
       "      <td>0</td>\n",
       "      <td>0</td>\n",
       "      <td>0.0.1</td>\n",
       "      <td>2022-01-07 10:33:08.681703</td>\n",
       "      <td>2022-01-07 10:33:16.375084</td>\n",
       "      <td>2022-01-07 10:33:21.070493</td>\n",
       "      <td>0.0</td>\n",
       "      <td>3</td>\n",
       "      <td>debug</td>\n",
       "      <td>{\"condition\": 0, \"counterbalance\": 0, \"assignm...</td>\n",
       "    </tr>\n",
       "  </tbody>\n",
       "</table>\n",
       "</div>"
      ],
      "text/plain": [
       "                  uniqueid assignmentid     workerid        hitid  ipaddress  \\\n",
       "0  debugJ72QI6:debug50U9IQ  debug50U9IQ  debugJ72QI6  debug8IFCN4  127.0.0.1   \n",
       "1  debugMF614L:debugAO8832  debugAO8832  debugMF614L  debugY5W1G7  127.0.0.1   \n",
       "2  debug297THI:debugSGINL0  debugSGINL0  debug297THI  debugUD1L1Y  127.0.0.1   \n",
       "\n",
       "  browser platform language  cond  counterbalance codeversion  \\\n",
       "0  safari    macos    en-us     0               0       0.0.1   \n",
       "1  safari    macos    en-us     0               0       0.0.1   \n",
       "2  safari    macos    en-us     0               0       0.0.1   \n",
       "\n",
       "                     beginhit                    beginexp  \\\n",
       "0  2022-01-07 10:32:25.970613  2022-01-07 10:32:32.788966   \n",
       "1  2022-01-07 10:32:47.620495  2022-01-07 10:32:53.758352   \n",
       "2  2022-01-07 10:33:08.681703  2022-01-07 10:33:16.375084   \n",
       "\n",
       "                       endhit  bonus  status   mode  \\\n",
       "0  2022-01-07 10:32:38.747559    0.0       3  debug   \n",
       "1  2022-01-07 10:32:58.631147    0.0       3  debug   \n",
       "2  2022-01-07 10:33:21.070493    0.0       3  debug   \n",
       "\n",
       "                                          datastring  \n",
       "0  {\"condition\": 0, \"counterbalance\": 0, \"assignm...  \n",
       "1  {\"condition\": 0, \"counterbalance\": 0, \"assignm...  \n",
       "2  {\"condition\": 0, \"counterbalance\": 0, \"assignm...  "
      ]
     },
     "metadata": {},
     "output_type": "display_data"
    }
   ],
   "source": [
    "# Verify that you can query task data.\n",
    "df = pd.read_sql_query(\"SELECT * FROM assignments\", con)\n",
    "display(df)"
   ]
  },
  {
   "cell_type": "markdown",
   "id": "d15fe73c",
   "metadata": {},
   "source": [
    "### Verify data saved by PsiTurk.\n",
    "\n",
    "If the data is there, your data saving method using psiturk is functional."
   ]
  },
  {
   "cell_type": "code",
   "execution_count": 18,
   "id": "eeabc1e8",
   "metadata": {},
   "outputs": [
    {
     "name": "stdout",
     "output_type": "stream",
     "text": [
      "Participant 1\n",
      "{'phase': 'INSTRUCTIONS', 'templates': ['instructions/instruct-1.html', 'instructions/instruct-2.html', 'instructions/instruct-practiceStart.html'], 'action': 'Begin'}\n",
      "{'phase': 'INSTRUCTIONS', 'template': 'instructions/instruct-1.html', 'indexOf': 0, 'action': 'NextPage', 'viewTime': 1016}\n",
      "{'phase': 'INSTRUCTIONS', 'template': 'instructions/instruct-2.html', 'indexOf': 1, 'action': 'NextPage', 'viewTime': 612}\n",
      "{'phase': 'INSTRUCTIONS', 'template': 'instructions/instruct-practiceStart.html', 'indexOf': 2, 'action': 'FinishInstructions', 'viewTime': 726}\n",
      "{'rt': 701, 'stimulus': '<p style=\"font-size: 30px;\">This is the practice trial. Press any key to begin.</p>', 'response': 'enter', 'trial_type': 'html-keyboard-response', 'trial_index': 0, 'time_elapsed': 706, 'internal_node_id': '0.0-0.0'}\n",
      "{'rt': 1732, 'answer': 'lessThan50', 'response': 'lessThan50', 'correct': True, 'trial_type': 'DisplayTableStim', 'trial_index': 1, 'time_elapsed': 2442, 'internal_node_id': '0.0-1.0'}\n",
      "{'rt': 1016, 'url': 'instructions/instruct-experimentStart.html', 'trial_type': 'external-html', 'trial_index': 2, 'time_elapsed': 3473, 'internal_node_id': '0.0-2.0'}\n",
      "{'rt': 822, 'stimulus': '<p style=\"font-size: 30px;\">This is the real experiment. Press any key to begin.</p>', 'response': ' ', 'trial_type': 'html-keyboard-response', 'trial_index': 3, 'time_elapsed': 4300, 'internal_node_id': '0.0-3.0'}\n",
      "{'rt': 1561, 'answer': 'greaterThan50', 'response': 'greaterThan50', 'correct': True, 'trial_type': 'DisplayTableStim', 'trial_index': 4, 'time_elapsed': 5866, 'internal_node_id': '0.0-4.0'}\n",
      "{'rt': 1726, 'answer': 'greaterThan50', 'response': 'greaterThan50', 'correct': True, 'trial_type': 'DisplayTableStim', 'trial_index': 5, 'time_elapsed': 7598, 'internal_node_id': '0.0-5.0'}\n",
      "{'rt': 1411, 'answer': 'greaterThan50', 'response': 'greaterThan50', 'correct': True, 'trial_type': 'DisplayTableStim', 'trial_index': 6, 'time_elapsed': 9016, 'internal_node_id': '0.0-6.0'}\n",
      "{'rt': 1227, 'answer': 'greaterThan50', 'response': 'greaterThan50', 'correct': True, 'trial_type': 'DisplayTableStim', 'trial_index': 7, 'time_elapsed': 10249, 'internal_node_id': '0.0-7.0'}\n",
      "\n",
      "Participant 2\n",
      "{'phase': 'INSTRUCTIONS', 'templates': ['instructions/instruct-1.html', 'instructions/instruct-2.html', 'instructions/instruct-practiceStart.html'], 'action': 'Begin'}\n",
      "{'phase': 'INSTRUCTIONS', 'template': 'instructions/instruct-1.html', 'indexOf': 0, 'action': 'NextPage', 'viewTime': 753}\n",
      "{'phase': 'INSTRUCTIONS', 'template': 'instructions/instruct-2.html', 'indexOf': 1, 'action': 'NextPage', 'viewTime': 664}\n",
      "{'phase': 'INSTRUCTIONS', 'template': 'instructions/instruct-practiceStart.html', 'indexOf': 2, 'action': 'FinishInstructions', 'viewTime': 770}\n",
      "{'rt': 726, 'stimulus': '<p style=\"font-size: 30px;\">This is the practice trial. Press any key to begin.</p>', 'response': ' ', 'trial_type': 'html-keyboard-response', 'trial_index': 0, 'time_elapsed': 728, 'internal_node_id': '0.0-0.0'}\n",
      "{'rt': 1666, 'answer': 'lessThan50', 'response': 'lessThan50', 'correct': True, 'trial_type': 'DisplayTableStim', 'trial_index': 1, 'time_elapsed': 2396, 'internal_node_id': '0.0-1.0'}\n",
      "{'rt': 788, 'url': 'instructions/instruct-experimentStart.html', 'trial_type': 'external-html', 'trial_index': 2, 'time_elapsed': 3198, 'internal_node_id': '0.0-2.0'}\n",
      "{'rt': 630, 'stimulus': '<p style=\"font-size: 30px;\">This is the real experiment. Press any key to begin.</p>', 'response': ' ', 'trial_type': 'html-keyboard-response', 'trial_index': 3, 'time_elapsed': 3830, 'internal_node_id': '0.0-3.0'}\n",
      "{'rt': 1677, 'answer': 'greaterThan50', 'response': 'greaterThan50', 'correct': True, 'trial_type': 'DisplayTableStim', 'trial_index': 4, 'time_elapsed': 5510, 'internal_node_id': '0.0-4.0'}\n",
      "{'rt': 1249, 'answer': 'greaterThan50', 'response': 'greaterThan50', 'correct': True, 'trial_type': 'DisplayTableStim', 'trial_index': 5, 'time_elapsed': 6765, 'internal_node_id': '0.0-5.0'}\n",
      "{'rt': 963, 'answer': 'greaterThan50', 'response': 'greaterThan50', 'correct': True, 'trial_type': 'DisplayTableStim', 'trial_index': 6, 'time_elapsed': 7734, 'internal_node_id': '0.0-6.0'}\n",
      "{'rt': 939, 'answer': 'greaterThan50', 'response': 'greaterThan50', 'correct': True, 'trial_type': 'DisplayTableStim', 'trial_index': 7, 'time_elapsed': 8679, 'internal_node_id': '0.0-7.0'}\n",
      "\n",
      "Participant 3\n",
      "{'phase': 'INSTRUCTIONS', 'templates': ['instructions/instruct-1.html', 'instructions/instruct-2.html', 'instructions/instruct-practiceStart.html'], 'action': 'Begin'}\n",
      "{'phase': 'INSTRUCTIONS', 'template': 'instructions/instruct-1.html', 'indexOf': 0, 'action': 'NextPage', 'viewTime': 839}\n",
      "{'phase': 'INSTRUCTIONS', 'template': 'instructions/instruct-2.html', 'indexOf': 1, 'action': 'NextPage', 'viewTime': 1012}\n",
      "{'phase': 'INSTRUCTIONS', 'template': 'instructions/instruct-practiceStart.html', 'indexOf': 2, 'action': 'FinishInstructions', 'viewTime': 1791}\n",
      "{'rt': 1006, 'stimulus': '<p style=\"font-size: 30px;\">This is the practice trial. Press any key to begin.</p>', 'response': ' ', 'trial_type': 'html-keyboard-response', 'trial_index': 0, 'time_elapsed': 1008, 'internal_node_id': '0.0-0.0'}\n",
      "{'rt': 1417, 'answer': 'lessThan50', 'response': 'greaterThan50', 'correct': False, 'trial_type': 'DisplayTableStim', 'trial_index': 1, 'time_elapsed': 2427, 'internal_node_id': '0.0-1.0'}\n",
      "{'rt': 905, 'url': 'instructions/instruct-experimentStart.html', 'trial_type': 'external-html', 'trial_index': 2, 'time_elapsed': 3348, 'internal_node_id': '0.0-2.0'}\n",
      "{'rt': 561, 'stimulus': '<p style=\"font-size: 30px;\">This is the real experiment. Press any key to begin.</p>', 'response': ' ', 'trial_type': 'html-keyboard-response', 'trial_index': 3, 'time_elapsed': 3912, 'internal_node_id': '0.0-3.0'}\n",
      "{'rt': 1348, 'answer': 'greaterThan50', 'response': 'lessThan50', 'correct': False, 'trial_type': 'DisplayTableStim', 'trial_index': 4, 'time_elapsed': 5264, 'internal_node_id': '0.0-4.0'}\n",
      "{'rt': 1029, 'answer': 'greaterThan50', 'response': 'lessThan50', 'correct': False, 'trial_type': 'DisplayTableStim', 'trial_index': 5, 'time_elapsed': 6299, 'internal_node_id': '0.0-5.0'}\n",
      "{'rt': 972, 'answer': 'greaterThan50', 'response': 'lessThan50', 'correct': False, 'trial_type': 'DisplayTableStim', 'trial_index': 6, 'time_elapsed': 7278, 'internal_node_id': '0.0-6.0'}\n",
      "{'rt': 1323, 'answer': 'greaterThan50', 'response': 'lessThan50', 'correct': False, 'trial_type': 'DisplayTableStim', 'trial_index': 7, 'time_elapsed': 8608, 'internal_node_id': '0.0-7.0'}\n",
      "\n"
     ]
    }
   ],
   "source": [
    "for i, datastring in enumerate(df['datastring'].values):\n",
    "        print('Participant', i + 1)\n",
    "        for participantData in json.loads(datastring)['data']:\n",
    "            print(participantData['trialdata'])\n",
    "        print()"
   ]
  },
  {
   "cell_type": "markdown",
   "id": "affb0d95",
   "metadata": {},
   "source": [
    "### Test custom code for assigning workers bonuses.\n",
    "\n",
    "Test how you will scrape the data and insert into custom.py code."
   ]
  },
  {
   "cell_type": "code",
   "execution_count": 19,
   "id": "31e6c3af",
   "metadata": {},
   "outputs": [
    {
     "name": "stdout",
     "output_type": "stream",
     "text": [
      "Participant 1\n",
      "{'rt': 1732, 'answer': 'lessThan50', 'response': 'lessThan50', 'correct': True, 'trial_type': 'DisplayTableStim', 'trial_index': 1, 'time_elapsed': 2442, 'internal_node_id': '0.0-1.0'}\n",
      "{'rt': 1561, 'answer': 'greaterThan50', 'response': 'greaterThan50', 'correct': True, 'trial_type': 'DisplayTableStim', 'trial_index': 4, 'time_elapsed': 5866, 'internal_node_id': '0.0-4.0'}\n",
      "{'rt': 1726, 'answer': 'greaterThan50', 'response': 'greaterThan50', 'correct': True, 'trial_type': 'DisplayTableStim', 'trial_index': 5, 'time_elapsed': 7598, 'internal_node_id': '0.0-5.0'}\n",
      "{'rt': 1411, 'answer': 'greaterThan50', 'response': 'greaterThan50', 'correct': True, 'trial_type': 'DisplayTableStim', 'trial_index': 6, 'time_elapsed': 9016, 'internal_node_id': '0.0-6.0'}\n",
      "{'rt': 1227, 'answer': 'greaterThan50', 'response': 'greaterThan50', 'correct': True, 'trial_type': 'DisplayTableStim', 'trial_index': 7, 'time_elapsed': 10249, 'internal_node_id': '0.0-7.0'}\n",
      "Participant bonus: 0.1\n",
      "\n",
      "Participant 2\n",
      "{'rt': 1666, 'answer': 'lessThan50', 'response': 'lessThan50', 'correct': True, 'trial_type': 'DisplayTableStim', 'trial_index': 1, 'time_elapsed': 2396, 'internal_node_id': '0.0-1.0'}\n",
      "{'rt': 1677, 'answer': 'greaterThan50', 'response': 'greaterThan50', 'correct': True, 'trial_type': 'DisplayTableStim', 'trial_index': 4, 'time_elapsed': 5510, 'internal_node_id': '0.0-4.0'}\n",
      "{'rt': 1249, 'answer': 'greaterThan50', 'response': 'greaterThan50', 'correct': True, 'trial_type': 'DisplayTableStim', 'trial_index': 5, 'time_elapsed': 6765, 'internal_node_id': '0.0-5.0'}\n",
      "{'rt': 963, 'answer': 'greaterThan50', 'response': 'greaterThan50', 'correct': True, 'trial_type': 'DisplayTableStim', 'trial_index': 6, 'time_elapsed': 7734, 'internal_node_id': '0.0-6.0'}\n",
      "{'rt': 939, 'answer': 'greaterThan50', 'response': 'greaterThan50', 'correct': True, 'trial_type': 'DisplayTableStim', 'trial_index': 7, 'time_elapsed': 8679, 'internal_node_id': '0.0-7.0'}\n",
      "Participant bonus: 0.1\n",
      "\n",
      "Participant 3\n",
      "{'rt': 1417, 'answer': 'lessThan50', 'response': 'greaterThan50', 'correct': False, 'trial_type': 'DisplayTableStim', 'trial_index': 1, 'time_elapsed': 2427, 'internal_node_id': '0.0-1.0'}\n",
      "{'rt': 1348, 'answer': 'greaterThan50', 'response': 'lessThan50', 'correct': False, 'trial_type': 'DisplayTableStim', 'trial_index': 4, 'time_elapsed': 5264, 'internal_node_id': '0.0-4.0'}\n",
      "{'rt': 1029, 'answer': 'greaterThan50', 'response': 'lessThan50', 'correct': False, 'trial_type': 'DisplayTableStim', 'trial_index': 5, 'time_elapsed': 6299, 'internal_node_id': '0.0-5.0'}\n",
      "{'rt': 972, 'answer': 'greaterThan50', 'response': 'lessThan50', 'correct': False, 'trial_type': 'DisplayTableStim', 'trial_index': 6, 'time_elapsed': 7278, 'internal_node_id': '0.0-6.0'}\n",
      "{'rt': 1323, 'answer': 'greaterThan50', 'response': 'lessThan50', 'correct': False, 'trial_type': 'DisplayTableStim', 'trial_index': 7, 'time_elapsed': 8608, 'internal_node_id': '0.0-7.0'}\n",
      "Participant bonus: 0\n",
      "\n"
     ]
    }
   ],
   "source": [
    "for i, datastring in enumerate(df['datastring'].values):\n",
    "        print('Participant', i + 1)\n",
    "        bonus = 0\n",
    "        for participantData in json.loads(datastring)['data']:\n",
    "            if \"trial_type\" in participantData['trialdata'].keys():\n",
    "                if participantData['trialdata']['trial_type'] == 'DisplayTableStim':\n",
    "                    \n",
    "                    print(participantData['trialdata'])\n",
    "                    if participantData['trialdata']['correct']:\n",
    "                        bonus += 0.02\n",
    "                        \n",
    "        print('Participant bonus:', bonus)\n",
    "        print()"
   ]
  },
  {
   "cell_type": "markdown",
   "id": "c839de36",
   "metadata": {},
   "source": [
    "### Close connection to Database."
   ]
  },
  {
   "cell_type": "code",
   "execution_count": 5,
   "id": "b87d8753",
   "metadata": {},
   "outputs": [],
   "source": [
    "con.close()"
   ]
  }
 ],
 "metadata": {
  "kernelspec": {
   "display_name": "Python 3 (ipykernel)",
   "language": "python",
   "name": "python3"
  },
  "language_info": {
   "codemirror_mode": {
    "name": "ipython",
    "version": 3
   },
   "file_extension": ".py",
   "mimetype": "text/x-python",
   "name": "python",
   "nbconvert_exporter": "python",
   "pygments_lexer": "ipython3",
   "version": "3.8.12"
  }
 },
 "nbformat": 4,
 "nbformat_minor": 5
}
